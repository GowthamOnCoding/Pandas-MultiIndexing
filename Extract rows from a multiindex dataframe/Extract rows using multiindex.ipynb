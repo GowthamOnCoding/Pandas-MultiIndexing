{
 "cells": [
  {
   "cell_type": "markdown",
   "metadata": {},
   "source": [
    "# Extract rows using multiindex"
   ]
  },
  {
   "cell_type": "code",
   "execution_count": 1,
   "metadata": {},
   "outputs": [
    {
     "data": {
      "text/html": [
       "<div>\n",
       "<style scoped>\n",
       "    .dataframe tbody tr th:only-of-type {\n",
       "        vertical-align: middle;\n",
       "    }\n",
       "\n",
       "    .dataframe tbody tr th {\n",
       "        vertical-align: top;\n",
       "    }\n",
       "\n",
       "    .dataframe thead th {\n",
       "        text-align: right;\n",
       "    }\n",
       "</style>\n",
       "<table border=\"1\" class=\"dataframe\">\n",
       "  <thead>\n",
       "    <tr style=\"text-align: right;\">\n",
       "      <th></th>\n",
       "      <th></th>\n",
       "      <th>Price in US Dollars</th>\n",
       "    </tr>\n",
       "    <tr>\n",
       "      <th>Date</th>\n",
       "      <th>Country</th>\n",
       "      <th></th>\n",
       "    </tr>\n",
       "  </thead>\n",
       "  <tbody>\n",
       "    <tr>\n",
       "      <th rowspan=\"5\" valign=\"top\">2010-01-01</th>\n",
       "      <th>Argentina</th>\n",
       "      <td>1.84</td>\n",
       "    </tr>\n",
       "    <tr>\n",
       "      <th>Australia</th>\n",
       "      <td>3.98</td>\n",
       "    </tr>\n",
       "    <tr>\n",
       "      <th>Brazil</th>\n",
       "      <td>4.76</td>\n",
       "    </tr>\n",
       "    <tr>\n",
       "      <th>Britain</th>\n",
       "      <td>3.67</td>\n",
       "    </tr>\n",
       "    <tr>\n",
       "      <th>Canada</th>\n",
       "      <td>3.97</td>\n",
       "    </tr>\n",
       "  </tbody>\n",
       "</table>\n",
       "</div>"
      ],
      "text/plain": [
       "                      Price in US Dollars\n",
       "Date       Country                       \n",
       "2010-01-01 Argentina                 1.84\n",
       "           Australia                 3.98\n",
       "           Brazil                    4.76\n",
       "           Britain                   3.67\n",
       "           Canada                    3.97"
      ]
     },
     "execution_count": 1,
     "metadata": {},
     "output_type": "execute_result"
    }
   ],
   "source": [
    "import pandas as pd\n",
    "mac=pd.read_csv(\"bigmac.csv\",index_col=[\"Date\",\"Country\"],parse_dates=[\"Date\"])\n",
    "mac.sort_index(inplace=True)\n",
    "mac.head()"
   ]
  },
  {
   "cell_type": "raw",
   "metadata": {},
   "source": [
    "Please be remember when we want to extract a row from a dataframe with multiindex, \n",
    "we have to use tuple to mention the index values as a first parameter in loc method"
   ]
  },
  {
   "cell_type": "code",
   "execution_count": 2,
   "metadata": {},
   "outputs": [
    {
     "data": {
      "text/html": [
       "<div>\n",
       "<style scoped>\n",
       "    .dataframe tbody tr th:only-of-type {\n",
       "        vertical-align: middle;\n",
       "    }\n",
       "\n",
       "    .dataframe tbody tr th {\n",
       "        vertical-align: top;\n",
       "    }\n",
       "\n",
       "    .dataframe thead th {\n",
       "        text-align: right;\n",
       "    }\n",
       "</style>\n",
       "<table border=\"1\" class=\"dataframe\">\n",
       "  <thead>\n",
       "    <tr style=\"text-align: right;\">\n",
       "      <th></th>\n",
       "      <th></th>\n",
       "      <th>Price in US Dollars</th>\n",
       "    </tr>\n",
       "    <tr>\n",
       "      <th>Date</th>\n",
       "      <th>Country</th>\n",
       "      <th></th>\n",
       "    </tr>\n",
       "  </thead>\n",
       "  <tbody>\n",
       "    <tr>\n",
       "      <th>2010-01-01</th>\n",
       "      <th>Australia</th>\n",
       "      <td>3.98</td>\n",
       "    </tr>\n",
       "  </tbody>\n",
       "</table>\n",
       "</div>"
      ],
      "text/plain": [
       "                      Price in US Dollars\n",
       "Date       Country                       \n",
       "2010-01-01 Australia                 3.98"
      ]
     },
     "execution_count": 2,
     "metadata": {},
     "output_type": "execute_result"
    }
   ],
   "source": [
    "mac.loc[(\"2010-01-01\",\"Australia\"),[\"Price in US Dollars\"]]"
   ]
  },
  {
   "cell_type": "markdown",
   "metadata": {},
   "source": [
    "You can note that, you can mention multiple column names using list which is a usual case"
   ]
  },
  {
   "cell_type": "code",
   "execution_count": 8,
   "metadata": {},
   "outputs": [
    {
     "name": "stderr",
     "output_type": "stream",
     "text": [
      "C:\\Users\\Gowtham\\Anaconda3\\lib\\site-packages\\ipykernel_launcher.py:1: DeprecationWarning: \n",
      ".ix is deprecated. Please use\n",
      ".loc for label based indexing or\n",
      ".iloc for positional indexing\n",
      "\n",
      "See the documentation here:\n",
      "http://pandas.pydata.org/pandas-docs/stable/indexing.html#ix-indexer-is-deprecated\n",
      "  \"\"\"Entry point for launching an IPython kernel.\n"
     ]
    },
    {
     "data": {
      "text/plain": [
       "2.38"
      ]
     },
     "execution_count": 8,
     "metadata": {},
     "output_type": "execute_result"
    }
   ],
   "source": [
    "mac.ix[(\"2010-01-01\",\"Egypt\"),0]"
   ]
  },
  {
   "cell_type": "raw",
   "metadata": {},
   "source": [
    "For second arguement, you can pass column position"
   ]
  },
  {
   "cell_type": "markdown",
   "metadata": {},
   "source": [
    "# The .transpose() and column multiindexing"
   ]
  },
  {
   "cell_type": "raw",
   "metadata": {},
   "source": [
    "Multi indexing can be performed on columns as well and in our example we are going to use transpose() to demonstrate the same"
   ]
  },
  {
   "cell_type": "code",
   "execution_count": 12,
   "metadata": {},
   "outputs": [
    {
     "data": {
      "text/html": [
       "<div>\n",
       "<style scoped>\n",
       "    .dataframe tbody tr th:only-of-type {\n",
       "        vertical-align: middle;\n",
       "    }\n",
       "\n",
       "    .dataframe tbody tr th {\n",
       "        vertical-align: top;\n",
       "    }\n",
       "\n",
       "    .dataframe thead tr th {\n",
       "        text-align: left;\n",
       "    }\n",
       "</style>\n",
       "<table border=\"1\" class=\"dataframe\">\n",
       "  <thead>\n",
       "    <tr>\n",
       "      <th>Date</th>\n",
       "      <th colspan=\"10\" halign=\"left\">2010-01-01</th>\n",
       "      <th>...</th>\n",
       "      <th colspan=\"10\" halign=\"left\">2016-01-01</th>\n",
       "    </tr>\n",
       "    <tr>\n",
       "      <th>Country</th>\n",
       "      <th>Argentina</th>\n",
       "      <th>Australia</th>\n",
       "      <th>Brazil</th>\n",
       "      <th>Britain</th>\n",
       "      <th>Canada</th>\n",
       "      <th>Chile</th>\n",
       "      <th>China</th>\n",
       "      <th>Colombia</th>\n",
       "      <th>Costa Rica</th>\n",
       "      <th>Czech Republic</th>\n",
       "      <th>...</th>\n",
       "      <th>Switzerland</th>\n",
       "      <th>Taiwan</th>\n",
       "      <th>Thailand</th>\n",
       "      <th>Turkey</th>\n",
       "      <th>UAE</th>\n",
       "      <th>Ukraine</th>\n",
       "      <th>United States</th>\n",
       "      <th>Uruguay</th>\n",
       "      <th>Venezuela</th>\n",
       "      <th>Vietnam</th>\n",
       "    </tr>\n",
       "  </thead>\n",
       "  <tbody>\n",
       "    <tr>\n",
       "      <th>Price in US Dollars</th>\n",
       "      <td>1.84</td>\n",
       "      <td>3.98</td>\n",
       "      <td>4.76</td>\n",
       "      <td>3.67</td>\n",
       "      <td>3.97</td>\n",
       "      <td>3.18</td>\n",
       "      <td>1.83</td>\n",
       "      <td>3.91</td>\n",
       "      <td>3.52</td>\n",
       "      <td>3.71</td>\n",
       "      <td>...</td>\n",
       "      <td>6.44</td>\n",
       "      <td>2.08</td>\n",
       "      <td>3.09</td>\n",
       "      <td>3.41</td>\n",
       "      <td>3.54</td>\n",
       "      <td>1.54</td>\n",
       "      <td>4.93</td>\n",
       "      <td>3.74</td>\n",
       "      <td>0.66</td>\n",
       "      <td>2.67</td>\n",
       "    </tr>\n",
       "  </tbody>\n",
       "</table>\n",
       "<p>1 rows × 652 columns</p>\n",
       "</div>"
      ],
      "text/plain": [
       "Date                2010-01-01                                              \\\n",
       "Country              Argentina Australia Brazil Britain Canada Chile China   \n",
       "Price in US Dollars       1.84      3.98   4.76    3.67   3.97  3.18  1.83   \n",
       "\n",
       "Date                                                    ...  2016-01-01  \\\n",
       "Country             Colombia Costa Rica Czech Republic  ... Switzerland   \n",
       "Price in US Dollars     3.91       3.52           3.71  ...        6.44   \n",
       "\n",
       "Date                                                                    \\\n",
       "Country             Taiwan Thailand Turkey   UAE Ukraine United States   \n",
       "Price in US Dollars   2.08     3.09   3.41  3.54    1.54          4.93   \n",
       "\n",
       "Date                                           \n",
       "Country             Uruguay Venezuela Vietnam  \n",
       "Price in US Dollars    3.74      0.66    2.67  \n",
       "\n",
       "[1 rows x 652 columns]"
      ]
     },
     "execution_count": 12,
     "metadata": {},
     "output_type": "execute_result"
    }
   ],
   "source": [
    "mac=mac.transpose()\n",
    "mac.head()\n",
    "#transpose() will swap the columns and rows"
   ]
  },
  {
   "cell_type": "code",
   "execution_count": 14,
   "metadata": {},
   "outputs": [
    {
     "data": {
      "text/plain": [
       "Date        Country       \n",
       "2010-01-01  Argentina         1.84\n",
       "            Australia         3.98\n",
       "            Brazil            4.76\n",
       "            Britain           3.67\n",
       "            Canada            3.97\n",
       "            Chile             3.18\n",
       "            China             1.83\n",
       "            Colombia          3.91\n",
       "            Costa Rica        3.52\n",
       "            Czech Republic    3.71\n",
       "            Denmark           5.99\n",
       "            Egypt             2.38\n",
       "            Euro area         4.84\n",
       "            Hong Kong         1.91\n",
       "            Hungary           3.86\n",
       "            Indonesia         2.24\n",
       "            Israel            3.99\n",
       "            Japan             3.50\n",
       "            Latvia            3.09\n",
       "            Lithuania         2.87\n",
       "            Malaysia          2.08\n",
       "            Mexico            2.50\n",
       "            New Zealand       3.61\n",
       "            Norway            7.02\n",
       "            Pakistan          2.42\n",
       "            Peru              2.81\n",
       "            Philippines       2.21\n",
       "            Poland            2.86\n",
       "            Russia            2.34\n",
       "            Saudi Arabia      2.67\n",
       "            Singapore         3.19\n",
       "            South Africa      2.46\n",
       "            South Korea       2.98\n",
       "            Sri Lanka         1.83\n",
       "            Sweden            5.51\n",
       "            Switzerland       6.30\n",
       "            Taiwan            2.36\n",
       "            Thailand          2.11\n",
       "            Turkey            3.83\n",
       "            UAE               2.99\n",
       "            Ukraine           1.83\n",
       "            United States     3.58\n",
       "            Uruguay           3.32\n",
       "Name: Price in US Dollars, dtype: float64"
      ]
     },
     "execution_count": 14,
     "metadata": {},
     "output_type": "execute_result"
    }
   ],
   "source": [
    "mac.loc[\"Price in US Dollars\",(\"2010-01-01\")]"
   ]
  },
  {
   "cell_type": "code",
   "execution_count": 16,
   "metadata": {},
   "outputs": [
    {
     "data": {
      "text/plain": [
       "Date        Country\n",
       "2010-01-01  Japan      3.5\n",
       "Name: Price in US Dollars, dtype: float64"
      ]
     },
     "execution_count": 16,
     "metadata": {},
     "output_type": "execute_result"
    }
   ],
   "source": [
    "#Lets refine the filtering by giving the first level index as well\n",
    "mac.loc[\"Price in US Dollars\",(\"2010-01-01\",\"Japan\")]"
   ]
  },
  {
   "cell_type": "code",
   "execution_count": null,
   "metadata": {},
   "outputs": [],
   "source": []
  },
  {
   "cell_type": "code",
   "execution_count": null,
   "metadata": {},
   "outputs": [],
   "source": []
  }
 ],
 "metadata": {
  "kernelspec": {
   "display_name": "Python 3",
   "language": "python",
   "name": "python3"
  },
  "language_info": {
   "codemirror_mode": {
    "name": "ipython",
    "version": 3
   },
   "file_extension": ".py",
   "mimetype": "text/x-python",
   "name": "python",
   "nbconvert_exporter": "python",
   "pygments_lexer": "ipython3",
   "version": "3.7.3"
  }
 },
 "nbformat": 4,
 "nbformat_minor": 2
}
